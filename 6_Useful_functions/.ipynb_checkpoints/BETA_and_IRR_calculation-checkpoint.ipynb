{
 "cells": [
  {
   "cell_type": "code",
   "execution_count": 1,
   "id": "386eb323-e6a4-4db4-9673-cf0250390e6c",
   "metadata": {
    "tags": []
   },
   "outputs": [
    {
     "name": "stderr",
     "output_type": "stream",
     "text": [
      "/Users/jin/anaconda3/lib/python3.10/site-packages/numba/core/decorators.py:262: NumbaDeprecationWarning: \u001b[1mnumba.generated_jit is deprecated. Please see the documentation at: https://numba.readthedocs.io/en/stable/reference/deprecation.html#deprecation-of-generated-jit for more information and advice on a suitable replacement.\u001b[0m\n",
      "  warnings.warn(msg, NumbaDeprecationWarning)\n"
     ]
    }
   ],
   "source": [
    "import vectorbt as vbt\n",
    "import pandas as pd\n",
    "import numpy as np\n",
    "from scipy import stats\n",
    "from datetime import datetime, timedelta\n",
    "import seaborn as sns\n",
    "\n",
    "from numba.core.errors import NumbaDeprecationWarning, NumbaPendingDeprecationWarning\n",
    "import warnings\n",
    "warnings.simplefilter('ignore', category=NumbaDeprecationWarning)\n",
    "warnings.simplefilter('ignore', category=NumbaPendingDeprecationWarning)"
   ]
  },
  {
   "cell_type": "code",
   "execution_count": null,
   "id": "a2ace017-6b75-4e0f-b96b-0b2077dd4394",
   "metadata": {},
   "outputs": [],
   "source": [
    "# Set year of BETA\n",
    "year = 5\n",
    "start = datetime.now() - timedelta(days=365*year)\n",
    "end = datetime.now()\n",
    "\n",
    "df_market = vbt.YFData.download('0050.TW', start=start, end=end, interval='1mo').get()\n",
    "df_target = vbt.YFData.download('2330.TW', start=start, end=end, interval='1mo').get()"
   ]
  },
  {
   "cell_type": "code",
   "execution_count": 2,
   "id": "6d1f1aa0-8ae4-426d-8742-5892758e3302",
   "metadata": {},
   "outputs": [],
   "source": [
    "datasets = [df_market, df_target]"
   ]
  },
  {
   "cell_type": "code",
   "execution_count": 3,
   "id": "f3884cbd-a2a9-4767-a23f-dc3a70c262fe",
   "metadata": {},
   "outputs": [],
   "source": [
    "for i in datasets:\n",
    "    i['cumu'] = i.Close / i.Close.iloc[0]\n",
    "    i['daily_return'] = i.Close.pct_change()"
   ]
  },
  {
   "cell_type": "code",
   "execution_count": 4,
   "id": "a879aea2-efe7-4461-b1eb-a6977da2980d",
   "metadata": {},
   "outputs": [],
   "source": [
    "lr = stats.linregress(df_market.daily_return.iloc[1:], df_target.daily_return.iloc[1:])"
   ]
  },
  {
   "cell_type": "code",
   "execution_count": 11,
   "id": "ff111922-c2e8-4fe9-9e0e-4c05b063e626",
   "metadata": {},
   "outputs": [
    {
     "name": "stdout",
     "output_type": "stream",
     "text": [
      "BETA: 1.4083733312294684\n"
     ]
    }
   ],
   "source": [
    "print('BETA: {}'.format(lr[0]))"
   ]
  },
  {
   "cell_type": "code",
   "execution_count": 6,
   "id": "75c473c0-c1ba-4cfe-ba2b-98fe317c5833",
   "metadata": {},
   "outputs": [
    {
     "data": {
      "text/plain": [
       "<Axes: xlabel='daily_return', ylabel='daily_return'>"
      ]
     },
     "execution_count": 6,
     "metadata": {},
     "output_type": "execute_result"
    },
    {
     "data": {
      "image/png": "[encoded data removed]",
      "text/plain": [
       "<Figure size 640x480 with 1 Axes>"
      ]
     },
     "metadata": {},
     "output_type": "display_data"
    }
   ],
   "source": [
    "sns.scatterplot(x = df_market.daily_return.iloc[1:], y=df_target.daily_return.iloc[1:])"
   ]
  },
  {
   "cell_type": "code",
   "execution_count": 7,
   "id": "5477abe6-4190-4254-b57c-e0711f74c8d9",
   "metadata": {},
   "outputs": [
    {
     "data": {
      "text/plain": [
       "1.630560824915093"
      ]
     },
     "execution_count": 7,
     "metadata": {},
     "output_type": "execute_result"
    }
   ],
   "source": [
    "# ROI\n",
    "df_market.Close.iloc[len(df_market)-1] / df_market.Close.iloc[0]"
   ]
  },
  {
   "cell_type": "code",
   "execution_count": 8,
   "id": "1c3ee22c-58c2-482d-ac47-805d16f33dc0",
   "metadata": {},
   "outputs": [
    {
     "data": {
      "text/plain": [
       "1.1027254574674845"
      ]
     },
     "execution_count": 8,
     "metadata": {},
     "output_type": "execute_result"
    }
   ],
   "source": [
    "# IRR\n",
    "(df_market.Close.iloc[len(df_market)-1] / df_market.Close.iloc[0])**(1/year)"
   ]
  }
 ],
 "metadata": {
  "kernelspec": {
   "display_name": "Python 3 (ipykernel)",
   "language": "python",
   "name": "python3"
  },
  "language_info": {
   "codemirror_mode": {
    "name": "ipython",
    "version": 3
   },
   "file_extension": ".py",
   "mimetype": "text/x-python",
   "name": "python",
   "nbconvert_exporter": "python",
   "pygments_lexer": "ipython3",
   "version": "3.10.12"
  }
 },
 "nbformat": 4,
 "nbformat_minor": 5
}
