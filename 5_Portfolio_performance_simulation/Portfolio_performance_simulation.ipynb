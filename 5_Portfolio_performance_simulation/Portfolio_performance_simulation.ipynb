{
 "cells": [
  {
   "cell_type": "code",
   "execution_count": 1,
   "id": "c1c05535-ed84-4517-b1f3-1017aaab3177",
   "metadata": {},
   "outputs": [
    {
     "name": "stderr",
     "output_type": "stream",
     "text": [
      "/Users/jin/anaconda3/lib/python3.10/site-packages/numba/core/decorators.py:262: NumbaDeprecationWarning: \u001b[1mnumba.generated_jit is deprecated. Please see the documentation at: https://numba.readthedocs.io/en/stable/reference/deprecation.html#deprecation-of-generated-jit for more information and advice on a suitable replacement.\u001b[0m\n",
      "  warnings.warn(msg, NumbaDeprecationWarning)\n"
     ]
    }
   ],
   "source": [
    "import vectorbt as vbt\n",
    "import pandas as pd\n",
    "import numpy as np\n",
    "from datetime import datetime, timedelta\n",
    "import seaborn as sns\n",
    "import random\n",
    "year = 5\n",
    "start = datetime.now()-timedelta(days=365*year)\n",
    "end = datetime.now()\n",
    "price = vbt.YFData.download(['META','AAPL','NVDA'], start=start, end=end).get('Close')"
   ]
  },
  {
   "cell_type": "code",
   "execution_count": 2,
   "id": "a8033742-b147-4018-92c2-9b50da6f6f5b",
   "metadata": {
    "tags": []
   },
   "outputs": [],
   "source": [
    "windows = [5,30]\n",
    "fast_ma, slow_ma = vbt.MA.run_combs(price, window=windows, r=2, short_names=['fast', 'slow'])\n",
    "entries = fast_ma.ma_crossed_above(slow_ma)\n",
    "exits = fast_ma.ma_crossed_below(slow_ma)\n",
    "group_by = ['portfolio','portfolio','portfolio']\n",
    "pf_kwargs = dict(size=np.inf,\n",
    "                 init_cash=[1000, 2000, 3000],\n",
    "                 fees=0.001,\n",
    "                 freq='1D',\n",
    "                 size_granularity=1,\n",
    "                 group_by=group_by,\n",
    "                 cash_sharing=False,\n",
    "                 update_value=True\n",
    "                )\n",
    "pf = vbt.Portfolio.from_signals(price, entries, exits, **pf_kwargs)\n"
   ]
  },
  {
   "cell_type": "code",
   "execution_count": 3,
   "id": "aa17f75b-737d-46e9-b578-d1a84879c5e7",
   "metadata": {},
   "outputs": [
    {
     "data": {
      "text/plain": [
       "Start                          2018-09-19 04:00:00+00:00\n",
       "End                            2023-09-15 04:00:00+00:00\n",
       "Period                                1256 days 00:00:00\n",
       "Start Value                                       6000.0\n",
       "End Value                                   30467.823474\n",
       "Total Return [%]                              407.797058\n",
       "Benchmark Return [%]                          290.059256\n",
       "Max Gross Exposure [%]                         99.641203\n",
       "Total Fees Paid                               732.373807\n",
       "Max Drawdown [%]                                35.10682\n",
       "Max Drawdown Duration                  354 days 00:00:00\n",
       "Total Trades                                          72\n",
       "Total Closed Trades                                   71\n",
       "Total Open Trades                                      1\n",
       "Open Trade PnL                                 -60.46048\n",
       "Win Rate [%]                                   46.478873\n",
       "Best Trade [%]                                155.317499\n",
       "Worst Trade [%]                                -20.29876\n",
       "Avg Winning Trade [%]                          25.848449\n",
       "Avg Losing Trade [%]                           -5.499357\n",
       "Avg Winning Trade Duration    58 days 17:27:16.363636364\n",
       "Avg Losing Trade Duration     10 days 16:25:15.789473684\n",
       "Profit Factor                                   2.932857\n",
       "Expectancy                                    345.468788\n",
       "Sharpe Ratio                                    1.652725\n",
       "Calmar Ratio                                    1.719125\n",
       "Omega Ratio                                     1.317769\n",
       "Sortino Ratio                                   2.614588\n",
       "Name: group, dtype: object"
      ]
     },
     "execution_count": 3,
     "metadata": {},
     "output_type": "execute_result"
    }
   ],
   "source": [
    "pf.stats(group_by=True)"
   ]
  },
  {
   "cell_type": "code",
   "execution_count": 4,
   "id": "b064e8dd-7034-43d6-bde1-4e24868e012d",
   "metadata": {},
   "outputs": [
    {
     "data": {
      "text/plain": [
       "4.077970578955332"
      ]
     },
     "execution_count": 4,
     "metadata": {},
     "output_type": "execute_result"
    }
   ],
   "source": [
    "pf.total_return()"
   ]
  }
 ],
 "metadata": {
  "kernelspec": {
   "display_name": "Python 3 (ipykernel)",
   "language": "python",
   "name": "python3"
  },
  "language_info": {
   "codemirror_mode": {
    "name": "ipython",
    "version": 3
   },
   "file_extension": ".py",
   "mimetype": "text/x-python",
   "name": "python",
   "nbconvert_exporter": "python",
   "pygments_lexer": "ipython3",
   "version": "3.10.12"
  }
 },
 "nbformat": 4,
 "nbformat_minor": 5
}
